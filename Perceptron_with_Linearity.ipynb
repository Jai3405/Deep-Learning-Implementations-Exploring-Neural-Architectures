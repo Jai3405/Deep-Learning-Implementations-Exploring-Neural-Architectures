{
 "cells": [
  {
   "cell_type": "markdown",
   "metadata": {},
   "source": [
    "## Perceptron with Linearity"
   ]
  },
  {
   "cell_type": "code",
   "execution_count": 10,
   "metadata": {},
   "outputs": [],
   "source": [
    "import numpy as np\n",
    "\n",
    "class Perceptron:\n",
    "    def __init__(self, input_size, learning_rate=0.01):\n",
    "        self.weights = np.random.rand(input_size)\n",
    "        self.bias = np.random.rand()\n",
    "        self.learning_rate = learning_rate\n",
    "\n",
    "    def activation(self, x):\n",
    "        return 1 if x >= 0 else 0\n",
    "\n",
    "    def predict(self, inputs):\n",
    "        summation = np.dot(inputs, self.weights) + self.bias\n",
    "        return self.activation(summation)\n",
    "\n",
    "    def train(self, training_inputs, labels, epochs):\n",
    "        for _ in range(epochs):\n",
    "            for inputs, label in zip(training_inputs, labels):\n",
    "                prediction = self.predict(inputs)\n",
    "                self.weights += self.learning_rate * (label - prediction) * inputs\n",
    "                self.bias += self.learning_rate * (label - prediction)\n"
   ]
  },
  {
   "cell_type": "code",
   "execution_count": 11,
   "metadata": {},
   "outputs": [
    {
     "name": "stdout",
     "output_type": "stream",
     "text": [
      "Initial weights: [0.75287049 0.87383158]\n",
      "Initial bias: 0.6457566887592657\n",
      "Trained weights: [0.36287049 0.41383158]\n",
      "Trained bias: -0.42424331124073494\n",
      "[0 0] -> 0\n",
      "[0 1] -> 0\n",
      "[1 0] -> 0\n",
      "[1 1] -> 1\n"
     ]
    }
   ],
   "source": [
    "# Example usage\n",
    "training_inputs = np.array([[0, 0], [0, 1], [1, 0], [1, 1]])\n",
    "labels = np.array([0, 0, 0, 1])\n",
    "\n",
    "perceptron = Perceptron(input_size=2)\n",
    "print(\"Initial weights:\", perceptron.weights)\n",
    "print(\"Initial bias:\", perceptron.bias)\n",
    "\n",
    "perceptron.train(training_inputs, labels, epochs=100)\n",
    "\n",
    "print(\"Trained weights:\", perceptron.weights)\n",
    "print(\"Trained bias:\", perceptron.bias)\n",
    "\n",
    "# Test the trained perceptron\n",
    "test_inputs = np.array([[0, 0], [0, 1], [1, 0], [1, 1]])\n",
    "for inputs in test_inputs:\n",
    "    print(inputs, \"->\", perceptron.predict(inputs))\n"
   ]
  },
  {
   "cell_type": "markdown",
   "metadata": {},
   "source": [
    "Experiment 1.2: Write a Python Program for the Perceptron with Non-Linearity\n"
   ]
  },
  {
   "cell_type": "code",
   "execution_count": 19,
   "metadata": {},
   "outputs": [
    {
     "name": "stdout",
     "output_type": "stream",
     "text": [
      "0\n",
      "1\n",
      "1\n",
      "1\n"
     ]
    }
   ],
   "source": [
    "import numpy as np\n",
    "\n",
    "class Perceptron:\n",
    "    def __init__(self, weights, bias):\n",
    "        self.weights = weights\n",
    "        self.bias = bias\n",
    "\n",
    "    def predict(self, x):\n",
    "        activation = np.dot(self.weights, x) + self.bias\n",
    "        if activation >= 0:\n",
    "            return 1\n",
    "        else:\n",
    "            return 0\n",
    "\n",
    "    def train(self, X, y):\n",
    "        for epoch in range(100):\n",
    "            for i in range(len(X)):\n",
    "                prediction = self.predict(X[i])\n",
    "                error = y[i] - prediction\n",
    "                self.weights += error * X[i]\n",
    "                self.bias += error\n",
    "\n",
    "if __name__ == \"__main__\":\n",
    "    # Create the perceptron\n",
    "    perceptron = Perceptron(np.array([1, 1]), 0)\n",
    "\n",
    "    # Train the perceptron\n",
    "    X = np.array([[0, 0], [0, 1], [1, 0], [1, 1]])\n",
    "    y = np.array([0, 1, 1, 1])\n",
    "    perceptron.train(X, y)\n",
    "\n",
    "    # Test the perceptron\n",
    "    print(perceptron.predict([0, 0]))  # 0\n",
    "    print(perceptron.predict([0, 1]))  # 1\n",
    "    print(perceptron.predict([1, 0]))  # 1\n",
    "    print(perceptron.predict([1, 1]))  # 1"
   ]
  }
 ],
 "metadata": {
  "kernelspec": {
   "display_name": "jenv5",
   "language": "python",
   "name": "python3"
  },
  "language_info": {
   "codemirror_mode": {
    "name": "ipython",
    "version": 3
   },
   "file_extension": ".py",
   "mimetype": "text/x-python",
   "name": "python",
   "nbconvert_exporter": "python",
   "pygments_lexer": "ipython3",
   "version": "3.8.16"
  }
 },
 "nbformat": 4,
 "nbformat_minor": 2
}
