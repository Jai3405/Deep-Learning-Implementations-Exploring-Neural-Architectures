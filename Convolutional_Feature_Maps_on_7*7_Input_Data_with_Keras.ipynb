{
 "cells": [
  {
   "cell_type": "markdown",
   "metadata": {},
   "source": [
    "## Implementing the Convolutional Feature Maps on 7*7 Input  Data with Keras       "
   ]
  },
  {
   "cell_type": "code",
   "execution_count": null,
   "metadata": {
    "colab": {
     "base_uri": "https://localhost:8080/"
    },
    "id": "fmwKOoDGIJ6J",
    "outputId": "37b8f71c-f723-481c-ca5e-2f5af4221dd5"
   },
   "outputs": [
    {
     "name": "stdout",
     "output_type": "stream",
     "text": [
      "Model: \"sequential\"\n",
      "_________________________________________________________________\n",
      " Layer (type)                Output Shape              Param #   \n",
      "=================================================================\n",
      " conv2d (Conv2D)             (None, 5, 5, 3)           30        \n",
      "                                                                 \n",
      "=================================================================\n",
      "Total params: 30 (120.00 Byte)\n",
      "Trainable params: 30 (120.00 Byte)\n",
      "Non-trainable params: 0 (0.00 Byte)\n",
      "_________________________________________________________________\n",
      "1/1 [==============================] - 1s 536ms/step\n",
      "Shape of feature maps: (1, 5, 5, 3)\n"
     ]
    }
   ],
   "source": [
    "import numpy as np\n",
    "from tensorflow.keras.models import Sequential\n",
    "from tensorflow.keras.layers import Conv2D\n",
    "\n",
    "# Creating a 7x7 input data\n",
    "input_data = np.random.rand(1, 7, 7, 1)  # Assuming single input sample with one channel\n",
    "\n",
    "# Creating a Sequential model\n",
    "model = Sequential()\n",
    "\n",
    "# Adding a Convolutional layer with 3 filters and 3x3 kernel size\n",
    "model.add(Conv2D(filters=3, kernel_size=(3, 3), input_shape=(7, 7, 1)))\n",
    "\n",
    "# Compile the model (not necessary for this example)\n",
    "# model.compile(optimizer='adam', loss='mse')\n",
    "\n",
    "# Display the summary of the model\n",
    "model.summary()\n",
    "\n",
    "# Performing forward pass to generate feature maps\n",
    "feature_maps = model.predict(input_data)\n",
    "\n",
    "# Displaying the shape of the feature maps\n",
    "print(\"Shape of feature maps:\", feature_maps.shape)\n"
   ]
  }
 ],
 "metadata": {
  "colab": {
   "provenance": []
  },
  "kernelspec": {
   "display_name": "Python 3",
   "name": "python3"
  },
  "language_info": {
   "name": "python",
   "version": "3.8.16"
  }
 },
 "nbformat": 4,
 "nbformat_minor": 0
}
